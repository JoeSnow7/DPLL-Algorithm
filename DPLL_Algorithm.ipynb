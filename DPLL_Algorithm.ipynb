{
  "nbformat": 4,
  "nbformat_minor": 0,
  "metadata": {
    "colab": {
      "name": "DPLL Algorithm.ipynb",
      "version": "0.3.2",
      "provenance": [],
      "collapsed_sections": []
    },
    "kernelspec": {
      "name": "python3",
      "display_name": "Python 3"
    }
  },
  "cells": [
    {
      "metadata": {
        "colab_type": "text",
        "id": "ZZVXtSr27rEY"
      },
      "cell_type": "markdown",
      "source": [
        "# Assignment 2\n",
        "# CS152\n",
        "# Jose Nieves Flores Maynez\n",
        "<br>\n",
        "<br>\n",
        "## DPLL Implementation"
      ]
    },
    {
      "metadata": {
        "id": "NqJ513IzTLX3",
        "colab_type": "code",
        "colab": {}
      },
      "cell_type": "code",
      "source": [
        "from copy import deepcopy\n",
        "\n",
        "class Literal:\n",
        "    \"\"\" Represents an atom or its negation depending on the sign.\n",
        "    \n",
        "    Arguments:\n",
        "        name(str): Name of the atom.\n",
        "        sign(bool): Determines if it is the atom or its negation.\n",
        "    \"\"\"\n",
        "    def __init__(self,name, sign = True):\n",
        "        self.name = name\n",
        "        self.sign = sign\n",
        "        \n",
        "    def __neg__(self):\n",
        "        # Create another instance so both can coexist\n",
        "        return Literal(self.name, not self.sign)\n",
        "        \n",
        "    def __eq__(self,other):\n",
        "        return(self.name == other.name)\n",
        "        \n",
        "    def __hash__(self):\n",
        "        return hash(self.name)\n",
        "    \n",
        "    def __str__(self):\n",
        "        if self.sign == False:\n",
        "            print(\"-\",self.name,end=\"\",sep=\"\")\n",
        "        else:\n",
        "            print(self.name,end=\"\",sep=\"\")\n",
        "            \n",
        "        \n",
        "\n",
        "        \n",
        "def DPLLSatisfiable(KB):\n",
        "    \"\"\" Determine if a KB is satisfiable. \n",
        "    \n",
        "    Arguments:\n",
        "        KB (list): Contains a Knowledge Base in CNF form. It is\n",
        "                   a list of sets where each set is a disjunction\n",
        "                   of the literals contained with the negative\n",
        "                   sign denoting the negation of a literal.\n",
        "                       \n",
        "    Output:\n",
        "        satisfiable (bool): True if satisfiable. False otherwise.\n",
        "        model (dict): Has a Literal as the key. The values can be\n",
        "                      the strings \"True\", \"False\" or \"Free\".\n",
        "    \"\"\"\n",
        "    \n",
        "    true_lit = Literal(\"True\") # Added to a clause to mark it True\n",
        "     \n",
        "    symbols = set() # Contains all symbols in KB\n",
        "    \n",
        "    for clause in KB:\n",
        "        for literal in clause:\n",
        "            symbols.add(literal)\n",
        "    \n",
        "    def DPLL(clauses,symbols,model):\n",
        "        \"\"\" Perform DPLL algorithm to find solution.\n",
        "        \n",
        "        Arguments:\n",
        "            clauses(list): Contains the Knowledge Base. Every element\n",
        "                           in the list is a set which is a clause as \n",
        "                           a disjunction of literals.\n",
        "            symbols(list): Contains all the literals appearing in the KB.\n",
        "            model(dict): Contains values (bool) assigned to each symbol in \n",
        "                         the model at this stage.\n",
        "                     \n",
        "        Output:\n",
        "            satisfiable(bool): True if satisfiable.\n",
        "            model(dict): Contains values (str) assigned to each symbol in the model.\n",
        "                         It is the solution. None if no solution is found.\n",
        "        \"\"\"\n",
        "        for clause in clauses:\n",
        "            counter = 0\n",
        "            limit = len(clause)\n",
        "            for lit in clause:\n",
        "                if lit.name in model:\n",
        "                    counter+=1\n",
        "                    if lit.sign == model[lit.name]:\n",
        "                        # Test if sign of literal matches the sign of the model.\n",
        "                        # If they match, the clause is True.\n",
        "                        # All literals had a default of True.\n",
        "                        clause.add(true_lit)\n",
        "                        # Go to next clause as this one is True.\n",
        "                        break\n",
        "                    elif counter == limit:\n",
        "                        # Every literal is already in the model and all returned\n",
        "                        # False. Must try a different model.\n",
        "                        return False, None\n",
        "                        \n",
        "        if all([true_lit in clause for clause in clauses]):\n",
        "            return True, model\n",
        "        \n",
        "        while symbols:\n",
        "            p=symbols.pop()\n",
        "            \n",
        "            t_model = deepcopy(model)\n",
        "            f_model = deepcopy(model)\n",
        "            \n",
        "            t_model[p.name] = True\n",
        "            f_model[p.name] = False\n",
        "\n",
        "            satisfiable, fin_model = DPLL(deepcopy(clauses),\n",
        "                                          deepcopy(symbols),\n",
        "                                          t_model)\n",
        "            if satisfiable:\n",
        "                return satisfiable, fin_model\n",
        "            \n",
        "            satisfiable, fin_model = DPLL(deepcopy(clauses),\n",
        "                                          deepcopy(symbols),\n",
        "                                          f_model)            \n",
        "            if satisfiable:\n",
        "                return satisfiable, fin_model\n",
        "        \n",
        "        # This only happens after trying all symbols.    \n",
        "        return False, None\n",
        "\n",
        "\n",
        "    satisfiable, fin_model = DPLL(KB,symbols,{})\n",
        "    \n",
        "    if satisfiable == True:\n",
        "        model = dict(zip(fin_model.keys(), [str(v) for v in fin_model.values()]))\n",
        "        for lit in symbols:\n",
        "            if lit.name not in model:\n",
        "                model[lit.name] = \"Free\"\n",
        "        \n",
        "    return satisfiable,model"
      ],
      "execution_count": 0,
      "outputs": []
    },
    {
      "metadata": {
        "id": "fBbm2GFquRZ8",
        "colab_type": "code",
        "outputId": "7f4aceae-d8e7-4eda-b12a-a4fcbf3d9ffd",
        "colab": {
          "base_uri": "https://localhost:8080/",
          "height": 34
        }
      },
      "cell_type": "code",
      "source": [
        "def printKB(KB):\n",
        "    \"\"\"Prints the KB in CNF form.\n",
        "    \n",
        "    Arguments:\n",
        "        KB(list): Contains sets that represent the clauses of the KB.\n",
        "    \"\"\"\n",
        "    \n",
        "    counter = 0\n",
        "    for clause in KB:\n",
        "        \n",
        "        if counter!=0:\n",
        "            print(\"∧\",end=\"\")\n",
        "        \n",
        "        print(\"(\",end=\"\")\n",
        "        lit_counter = 0\n",
        "        \n",
        "        for lit in clause:\n",
        "            \n",
        "            if lit_counter!=0:\n",
        "                print(\"∨\",end=\"\",sep=\"\")\n",
        "            \n",
        "            lit.__str__()\n",
        "            lit_counter+=1\n",
        "        print(\")\",end=\"\")\n",
        "        counter+=1\n",
        "\n",
        "printKB(KB)"
      ],
      "execution_count": 0,
      "outputs": [
        {
          "output_type": "stream",
          "text": [
            "(A∨B)∧(A∨-C)∧(-A∨B∨D)"
          ],
          "name": "stdout"
        }
      ]
    },
    {
      "metadata": {
        "id": "3ZWsI0NLB28v",
        "colab_type": "text"
      },
      "cell_type": "markdown",
      "source": [
        "## Testing"
      ]
    },
    {
      "metadata": {
        "id": "fCCX0zvquFCQ",
        "colab_type": "code",
        "outputId": "ff1dce1b-2ff4-4ae9-bdd0-85d2bdcc6554",
        "colab": {
          "base_uri": "https://localhost:8080/",
          "height": 34
        }
      },
      "cell_type": "code",
      "source": [
        "A = Literal(\"A\")\n",
        "B = Literal(\"B\")\n",
        "C = Literal(\"C\")\n",
        "D = Literal(\"D\")\n",
        "\n",
        "KB = [{A,B},{-C,A},{-A,B,D}]\n",
        "\n",
        "print(DPLLSatisfiable(KB))"
      ],
      "execution_count": 0,
      "outputs": [
        {
          "output_type": "stream",
          "text": [
            "(True, {'A': 'True', 'B': 'True', 'D': 'Free', 'C': 'Free'})\n"
          ],
          "name": "stdout"
        }
      ]
    },
    {
      "metadata": {
        "id": "F8RZdjlbbKly",
        "colab_type": "code",
        "outputId": "6aa5ab54-bf20-4b73-91c2-e16426177ab9",
        "colab": {
          "base_uri": "https://localhost:8080/",
          "height": 34
        }
      },
      "cell_type": "code",
      "source": [
        "A = Literal('A')\n",
        "B = Literal('B')\n",
        "C = Literal('C')\n",
        "D = Literal('D')\n",
        "E = Literal('E')\n",
        "F = Literal('F')\n",
        "\n",
        "KB2 = [{-A, B, E}, {-B, A}, {-E, A}, {-E, D}, \n",
        "      {-C, -F, -B}, {-E, B}, {-B, F}, {-B, C}]\n",
        "\n",
        "print(DPLLSatisfiable(KB2))\n"
      ],
      "execution_count": 0,
      "outputs": [
        {
          "output_type": "stream",
          "text": [
            "(True, {'F': 'True', 'B': 'False', 'E': 'False', 'A': 'False', 'D': 'Free', 'C': 'Free'})\n"
          ],
          "name": "stdout"
        }
      ]
    },
    {
      "metadata": {
        "id": "O8s0UNQzB916",
        "colab_type": "text"
      },
      "cell_type": "markdown",
      "source": [
        "# Extension"
      ]
    },
    {
      "metadata": {
        "id": "VncHTybuh_RG",
        "colab_type": "code",
        "colab": {}
      },
      "cell_type": "code",
      "source": [
        "def DPLLSatisfiableExtended(KB):\n",
        "    \"\"\" Determine if a KB is satisfiable. \n",
        "    \n",
        "    Arguments:\n",
        "        KB (list): Contains a Knowledge Base in CNF form. It is\n",
        "                   a list of sets where each set is a disjunction\n",
        "                   of the literals contained with the negative\n",
        "                   sign denoting the negation of a literal.\n",
        "                       \n",
        "    Output:\n",
        "        satisfiable (bool): True if satisfiable. False otherwise.\n",
        "        model (dict): Has a Literal as the key. The values can be\n",
        "                      the strings \"True\", \"False\" or \"Free\".\n",
        "    \"\"\"\n",
        "    \n",
        "    true_lit = Literal(\"True\") # Added to a clause to mark it True\n",
        "    \n",
        "    symbol_freq = {} # Checks for frequency of symbols \n",
        "    \n",
        "    symbols = set() # Contains all symbols in KB\n",
        "    \n",
        "    for clause in KB:\n",
        "        for literal in clause:\n",
        "            if literal.name not in symbol_freq:\n",
        "                symbol_freq[literal.name] = 1\n",
        "                symbols.add(literal)\n",
        "            else:\n",
        "                symbol_freq[literal.name] += 1\n",
        "                \n",
        "                \n",
        "    def unit_clause_heur(clauses):\n",
        "        \"\"\"Find unit clause.\n",
        "        \"\"\"\n",
        "        for clause in clauses:\n",
        "            if len(clause) == 1:\n",
        "                for lit in clause:\n",
        "                    return lit\n",
        "        return None\n",
        "        \n",
        "    def pure_symbol_heur(clauses,symbols):\n",
        "        \"\"\"Finds pure symbol. It appears with the same sign where it's present.\n",
        "        \"\"\"\n",
        "        def check_pureness(clauses,symbols,symbol):\n",
        "            sign = None\n",
        "            for clause in clauses:\n",
        "                if symbol in clause:\n",
        "                    for lit in clause:\n",
        "                        if lit == symbol:\n",
        "                            if sign == None:\n",
        "                                sign = lit.sign\n",
        "                            else:\n",
        "                                if sign != lit.sign:\n",
        "                                    return False, None\n",
        "            return True, sign\n",
        "        \n",
        "        for symbol in symbols:\n",
        "            # Check purity for every symbol\n",
        "            purity, sign = check_pureness(clauses,symbols,symbol)\n",
        "            \n",
        "            # Finds a pure symbol and returns it with the sign for it to be True.\n",
        "            if purity == True:\n",
        "                return symbol, sign\n",
        "        \n",
        "        # This happens when no pure symbol is found\n",
        "        return None, None\n",
        "                                \n",
        "                            \n",
        "    def DPLL(clauses,symbols,model):\n",
        "        \"\"\" Perform DPLL algorithm to find solution.\n",
        "        \n",
        "        Arguments:\n",
        "            clauses(list): Contains the Knowledge Base. Every element\n",
        "                           in the list is a set which is a clause as \n",
        "                           a disjunction of literals.\n",
        "            symbols(list): Contains all the literals appearing in the KB.\n",
        "            model(dict): Contains values (bool) assigned to each symbol in \n",
        "                         the model at this stage.\n",
        "                     \n",
        "        Output:\n",
        "            satisfiable(bool): True if satisfiable.\n",
        "            model(dict): Contains values (str) assigned to each symbol in the model.\n",
        "                         It is the solution. None if no solution is found.\n",
        "        \"\"\"\n",
        "        for clause in clauses:\n",
        "            counter = 0\n",
        "            removal= set()\n",
        "            limit = len(clause)\n",
        "            for lit in clause:\n",
        "                if lit.name in model:\n",
        "                    counter +=1 # Only add +1 if literal is in model.\n",
        "                    if lit.sign == model[lit.name]:\n",
        "                        # Test if sign of literal matches the sign of the model.\n",
        "                        # If they match, the clause is True.\n",
        "                        # All literals had a default of True.\n",
        "                        clause.add(true_lit)\n",
        "                        # Go to next clause as this one is True.\n",
        "                        break\n",
        "                    if counter != limit:\n",
        "                        # Can't remove while iterating so it's removed at end.\n",
        "                        removal.add(lit)\n",
        "                    else:\n",
        "                        # Every literal is already in the model and all returned\n",
        "                        # False. Must try a different model.\n",
        "                        return False, None\n",
        "            \n",
        "            # Remove False symbols from clause.\n",
        "            clause.difference_update(removal)\n",
        "        if all([true_lit in clause for clause in clauses]):\n",
        "            return True, model\n",
        "        \n",
        "        while symbols:\n",
        "            \n",
        "            # Apply heuristics first\n",
        "            \n",
        "            symbol, sign = pure_symbol_heur(clauses,symbols)\n",
        "            if symbol is not None:\n",
        "                # Symbol has been assigned a value so it doesn't need to\n",
        "                # be popped later on\n",
        "                model[symbol.name] = sign\n",
        "                symbols.remove(symbol)\n",
        "                return DPLL(clauses,symbols,model)\n",
        "                    \n",
        "            # This doesn't need a loop as it calls DPLL again inside and will\n",
        "            # keep trying this heuristic first.\n",
        "            unit = unit_clause_heur(clauses)\n",
        "            if unit is not None:\n",
        "                # The value assigned is the one of its sign so that it remains\n",
        "                # True or that it becomes True by cancelling two Falses.\n",
        "                model[unit.name]=unit.sign\n",
        "                # The literal has already been assigned a value so it's removed.\n",
        "                symbols.remove(unit)\n",
        "                return DPLL(clauses,symbols,model)\n",
        "            \n",
        "            p=symbols.pop()\n",
        "            \n",
        "            t_model = deepcopy(model)\n",
        "            f_model = deepcopy(model)\n",
        "            \n",
        "            t_model[p.name] = True\n",
        "            f_model[p.name] = False\n",
        "\n",
        "            satisfiable, fin_model = DPLL(deepcopy(clauses),\n",
        "                                          deepcopy(symbols),\n",
        "                                          t_model)\n",
        "            if satisfiable:\n",
        "                return satisfiable, fin_model\n",
        "            \n",
        "            satisfiable, fin_model = DPLL(deepcopy(clauses),\n",
        "                                          deepcopy(symbols),\n",
        "                                          f_model)            \n",
        "            if satisfiable:\n",
        "                return satisfiable, fin_model\n",
        "        \n",
        "        # This only happens after trying all symbols.    \n",
        "        return False, None\n",
        "#-------------------------------------------------------------------------------\n",
        "\n",
        "    satisfiable, fin_model = DPLL(KB,symbols,{})\n",
        "    \n",
        "\n",
        "    if satisfiable == True:\n",
        "        model = dict(zip(fin_model.keys(), [str(v) for v in fin_model.values()]))\n",
        "        for lit in symbols:\n",
        "            if lit.name not in model:\n",
        "                model[lit.name] = \"Free\"\n",
        "        \n",
        "    return satisfiable,model "
      ],
      "execution_count": 0,
      "outputs": []
    },
    {
      "metadata": {
        "id": "rlvcg9uIyT81",
        "colab_type": "text"
      },
      "cell_type": "markdown",
      "source": [
        "# Test for Extension"
      ]
    },
    {
      "metadata": {
        "colab_type": "code",
        "id": "x_p_BgcK7rvu",
        "outputId": "7b6efada-6a5e-4469-df2c-aada0b959ad5",
        "colab": {
          "base_uri": "https://localhost:8080/",
          "height": 34
        }
      },
      "cell_type": "code",
      "source": [
        "A = Literal('A')\n",
        "B = Literal('B')\n",
        "C = Literal('C')\n",
        "D = Literal('D')\n",
        "E = Literal('E')\n",
        "F = Literal('F')\n",
        "\n",
        "KB2 = [{-A, B, E}, {-B, A}, {-E, A}, {-E, D}, \n",
        "      {-C, -F, -B}, {-E, B}, {-B, F}, {-B, C}]\n",
        "\n",
        "print(DPLLSatisfiableExtended(KB2))\n"
      ],
      "execution_count": 145,
      "outputs": [
        {
          "output_type": "stream",
          "text": [
            "(True, {'D': 'True', 'F': 'True', 'E': 'False', 'A': 'False', 'B': 'False', 'C': 'Free'})\n"
          ],
          "name": "stdout"
        }
      ]
    },
    {
      "metadata": {
        "id": "GuVqs7k7BimU",
        "colab_type": "text"
      },
      "cell_type": "markdown",
      "source": [
        "References:\n",
        "<br>\n",
        "https://github.com/jcwleo/DPLL-Algorithm/blob/master/DPLL.py\n",
        "<br>\n",
        "<br>\n",
        "Available in:\n",
        "<br>"
      ]
    },
    {
      "metadata": {
        "id": "pJvAcqavGmhi",
        "colab_type": "code",
        "colab": {}
      },
      "cell_type": "code",
      "source": [
        ""
      ],
      "execution_count": 0,
      "outputs": []
    }
  ]
}